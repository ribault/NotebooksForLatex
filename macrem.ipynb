{
 "metadata": {
  "name": ""
 },
 "nbformat": 3,
 "nbformat_minor": 0,
 "worksheets": [
  {
   "cells": [
    {
     "cell_type": "heading",
     "level": 1,
     "metadata": {},
     "source": [
      "Removing user-defined macros in Latex files"
     ]
    },
    {
     "cell_type": "markdown",
     "metadata": {},
     "source": [
      "User-defined macros are sometimes useful in Latex, but they detract to the readability and reusability of the text by others. This script detects the macros, and replaces their instances with the intended meaning. We assume that each macro is defined on one line, which contains nothing else. We also assume that if \\macro2 calls \\macro1, then \\macro1 is defined earlier. The macros can be defined either in separate files, or in the file where we want to remove them.\n",
      "\n",
      "As demonstrated in the examples at the end of this notebook, the commands are:"
     ]
    },
    {
     "cell_type": "raw",
     "metadata": {},
     "source": [
      "macros = MacroDetect([file1, file2, ... fileN])         "
     ]
    },
    {
     "cell_type": "markdown",
     "metadata": {},
     "source": [
      "for detecting and storing the macros which are declared in the files file1, file2, ... fileN"
     ]
    },
    {
     "cell_type": "raw",
     "metadata": {},
     "source": [
      "macros.display()"
     ]
    },
    {
     "cell_type": "markdown",
     "metadata": {},
     "source": [
      "for displaying the detected macros as a numbered list"
     ]
    },
    {
     "cell_type": "raw",
     "metadata": {},
     "source": [
      "macros.keep([i1, i2, ... iM])\n",
      "macros.keep([i1, i2, ... iM], False)"
     ]
    },
    {
     "cell_type": "markdown",
     "metadata": {},
     "source": [
      "for keeping or eliminating M of the macros, and displaying the modified list"
     ]
    },
    {
     "cell_type": "raw",
     "metadata": {},
     "source": [
      "macros.brackets([i1, i2, ... iM])\n",
      "macros.brackets([i1, i2, ... iM], False)"
     ]
    },
    {
     "cell_type": "markdown",
     "metadata": {},
     "source": [
      "for adding brackets \\{ ... \\} to the meaning of M of the macros, or all but M of the macros"
     ]
    },
    {
     "cell_type": "raw",
     "metadata": {},
     "source": [
      "replace = MacroReplace(macros, file)"
     ]
    },
    {
     "cell_type": "markdown",
     "metadata": {},
     "source": [
      "for replacing the macros in a given file, without backing up that file"
     ]
    },
    {
     "cell_type": "raw",
     "metadata": {},
     "source": [
      "import shutil\n",
      "shutil.copyfile(file, file + '.bak')\n",
      "replace = MacroReplace(macros, file)"
     ]
    },
    {
     "cell_type": "markdown",
     "metadata": {},
     "source": [
      "for replacing the macros after backing up the file"
     ]
    },
    {
     "cell_type": "code",
     "collapsed": false,
     "input": [
      "import re, shutil\n",
      "\n",
      "class MacroDetect:\n",
      "    \"\"\" Given a number of files, this class looks for macros and stores them. \"\"\"\n",
      "    \n",
      "    commandString = r\"^\\s*\\\\newcommand\\**\\{*\\s*\\\\(\\w+)\\s*\\}*\\s*\"\n",
      "    numberString = r\"\\[\\s*(\\d+)\\s*\\]\\s*\"\n",
      "    meaningString = r\"\\{\\s*(.+)\\s*\\}\\s*$\"\n",
      "    simpleMacroSearch = re.compile(commandString + meaningString)\n",
      "    complexMacroSearch = re.compile(commandString + numberString + meaningString) \n",
      "    anyMacroSearch = re.compile(commandString)\n",
      "    \n",
      "    def __init__(self, macroFiles):\n",
      "        \"\"\" We need a list of files where relevant macros are found. \"\"\"\n",
      "        self.macroFiles = macroFiles\n",
      "        self.macros = []\n",
      "        self.lookForMacros()\n",
      "     \n",
      "    def detect(self, line):\n",
      "        \"\"\" Given a string (i.e. a line in a file), returns a triple \n",
      "        [macro, number of agruments, meaning] if a macro is present. \"\"\"\n",
      "        detect = False\n",
      "        macro = MacroDetect.simpleMacroSearch.search(line)        \n",
      "        if macro:\n",
      "            self.macros.append([macro.group(1), 0, macro.group(2)])\n",
      "            detect = True\n",
      "        macro = MacroDetect.complexMacroSearch.search(line)\n",
      "        if macro:\n",
      "            self.macros.append([macro.group(1), int(macro.group(2)), macro.group(3)])\n",
      "            detect = True        \n",
      "        return detect\n",
      "            \n",
      "    def lookForMacros(self, verbose = False):  \n",
      "        \"\"\" Looks for macros in the macro files, and stores them in simpleMacros and complexMacros. \"\"\"\n",
      "        for macroFile in self.macroFiles:\n",
      "            if verbose:\n",
      "                print \"Looking for macros in file \" + macroFile + \":\\n\"\n",
      "            counter = 0    \n",
      "            with open(macroFile, 'r') as f:\n",
      "                for line in f:\n",
      "                    counter += 1\n",
      "                    if self.detect(line) and verbose:\n",
      "                        print str(counter) + \" \" + line\n",
      "        \"\"\" We enclose private functions, whose name contains @, in \\makeatletter ... \\makeatother. \n",
      "        Bugs can still occur, for instance when this happens inside an \\fbox . \"\"\"                \n",
      "        for macro in self.macros:\n",
      "            if re.search(r\"@\", macro[2]):\n",
      "                macro[2] = r\"\\makeatletter \" + macro[2] + r\"\\makeatother \"               \n",
      "                        \n",
      "    def display(self):\n",
      "        \"\"\" Displays the macros. \"\"\"\n",
      "        print \"List of macros: \"\n",
      "        for index, macro in enumerate(self.macros):\n",
      "            print str(index) + \"  \" + macro[0] + \"  ->  \" + macro[2]\n",
      "        \n",
      "    def keep(self, numbers, revert = True):\n",
      "        \"\"\" Makes a new list of macros, keeping or removing those whose numbers are given, \n",
      "        depending on revert. \"\"\"\n",
      "        newmacros = []\n",
      "        for index, macro in enumerate(self.macros):\n",
      "            if (index in numbers) is revert:\n",
      "                newmacros.append(macro)\n",
      "        self.macros = newmacros        \n",
      "        self.display()        \n",
      "            \n",
      "    def brackets(self, numbers, revert = True):   \n",
      "        \"\"\" Adds brackets { ... } around macros whose numbers are given. \n",
      "        This is useful if they start with $, or appear in subscripts, etc. \"\"\"\n",
      "        for index, macro in enumerate(self.macros):\n",
      "            if (index in numbers) is revert:        \n",
      "                self.macros[index][2] = \"{\" + self.macros[index][2] + \"}\"\n",
      "        self.display()                        "
     ],
     "language": "python",
     "metadata": {},
     "outputs": []
    },
    {
     "cell_type": "code",
     "collapsed": false,
     "input": [
      "class MacroReplace:\n",
      "    \"\"\" Given a MacroDetect object and a file, this class replaces the macros with their meaning. \"\"\"\n",
      "    \n",
      "    def __init__(self, detect, replaceName):\n",
      "        \"\"\" We take the lists of macros. \"\"\"\n",
      "        self.macros = detect.macros\n",
      "        bakName = replaceName + \".bak\"\n",
      "        shutil.copyfile(replaceName, bakName)\n",
      "        self.bakFile = open(bakName, 'r')\n",
      "        self.replaceFile = open(replaceName, 'w+')\n",
      "        self.replace()\n",
      "        \n",
      "    @staticmethod\n",
      "    def bracketContents(string, m):\n",
      "        \"\"\" Given a string of the type {x1}{x2}... , returns [{x1}{x2}...{xm},x1, x2, ... xm]. \"\"\"\n",
      "        counter = 0\n",
      "        result = []\n",
      "        firstword = \"\"\n",
      "        word = \"\"\n",
      "        inBusiness = False\n",
      "        for char in string: \n",
      "            firstword = firstword + char\n",
      "            if inBusiness:    \n",
      "                if char == r\"}\":\n",
      "                    counter -= 1\n",
      "                if counter > 0:\n",
      "                    word = word + char\n",
      "                else:\n",
      "                    result.append(word)\n",
      "                    inBusiness = False\n",
      "                    word = \"\"\n",
      "                    if len(result) == m:\n",
      "                        break\n",
      "            if char == r\"{\":\n",
      "                counter += 1\n",
      "                inBusiness = True                    \n",
      "        result.insert(0, firstword)\n",
      "        return result\n",
      "    \n",
      "    @staticmethod\n",
      "    def replaceComplexMacro(macro, string):\n",
      "        \"\"\" Replaces macro in string once. I do not quite understand when to use \n",
      "        re.escape() and encode('string-escape'). Moreover, the single quotes tend to be escaped too much.\n",
      "        Correcting this requires a special elimination of escaped single quotes. This may be linked to the fact \n",
      "        that quotes are not only special characters, but also denote beginnings and ends of strings. Single quotes \n",
      "        need not be escaped if they belong to a double-quoted string, \n",
      "        which might somehow confuse the .encode('string-escape') method.\n",
      "        \"\"\"\n",
      "        result = [False, string]\n",
      "        match = re.search(r\"\\\\\"+macro[0]+r\"(\\s*\\{.*)\", string)\n",
      "        m = macro[1]\n",
      "        if match:\n",
      "            contents = MacroReplace.bracketContents(match.group(1), m)\n",
      "            replaceString = macro[2]\n",
      "            for i in range(1,m+1):\n",
      "                replaceString = re.sub(r\"\\#\"+str(i), contents[i].encode('string-escape'), replaceString)\n",
      "            originalString = \"\\\\\"+macro[0]+contents[0]\n",
      "            \"\"\" We will now do the replacement, after eliminating escaped single quotes. \"\"\"\n",
      "            sub = re.subn(re.escape(originalString), re.sub(r\"\\\\'\", r\"'\", replaceString.encode('string-escape')), string)\n",
      "            if sub[1] > 0: \n",
      "                result = [True, sub[0]]\n",
      "                # print \"macrem: replaced \" + originalString + \" with \" + replaceString\n",
      "            else:\n",
      "                result = [False, sub[0]]\n",
      "                print \"macrem error: failed to replace \" + originalString + \" with \" + replaceString\n",
      "        return result        \n",
      "        \n",
      "    def replace(self, verbose = False):\n",
      "        \"\"\" Replaces macros. \"\"\"\n",
      "        if verbose: \n",
      "            print \"Replacing macros: \\n\"\n",
      "        counter = 0\n",
      "        for line in self.bakFile:\n",
      "            counter += 1\n",
      "            if not MacroDetect.anyMacroSearch.search(line):\n",
      "                replaces = 0       \n",
      "                for macro in reversed(self.macros):\n",
      "                    \"\"\" The reversed order is here in case a macro calls an earlier macro. \"\"\"                    \n",
      "                    if macro[1] == 0:\n",
      "                        \"\"\" We will now do the replacement, after eliminating escaped single quotes. \"\"\"\n",
      "                        sub = re.subn(r\"\\\\\"+macro[0]+r\"([_\\W])\", \n",
      "                                      re.sub(r\"\\\\'\", r\"'\", macro[2].encode('string-escape')) + r\"\\1\", line)\n",
      "                        line = sub[0]\n",
      "                        replaces += sub[1]                    \n",
      "                    else:\n",
      "                        need = True                        \n",
      "                        while need:\n",
      "                            result = MacroReplace.replaceComplexMacro(macro, line)\n",
      "                            line = result[1]\n",
      "                            need = result[0]\n",
      "                            if need: \n",
      "                                replaces += 1\n",
      "                if replaces > 0 and verbose:\n",
      "                    print str(counter) + \" \" + line\n",
      "            self.replaceFile.write(line)\n",
      "        self.replaceFile.close()   "
     ],
     "language": "python",
     "metadata": {},
     "outputs": []
    },
    {
     "cell_type": "code",
     "collapsed": false,
     "input": [
      "if __name__ == '__main__':\n",
      "    fileName = 'test.tex'  \n",
      "    shutil.copyfile('source.tex', fileName)\n",
      "    test = MacroDetect([fileName])\n",
      "    test.brackets([1,2,3,4,13], False)\n",
      "    replace = MacroReplace(test, fileName)"
     ],
     "language": "python",
     "metadata": {},
     "outputs": []
    },
    {
     "cell_type": "code",
     "collapsed": false,
     "input": [
      "if __name__ == '__main__':\n",
      "    \"\"\" Replacing macros in a file. \"\"\"\n",
      "    fileName = \"../../fichiers/papiers/cft/cft31.tex\"\n",
      "    macros = MacroDetect([fileName])\n",
      "    macros.display()\n",
      "    macros.keep([0,3,5])\n",
      "    macros.brackets([2])\n",
      "    # replace = MacroReplace(macros, fileName)"
     ],
     "language": "python",
     "metadata": {},
     "outputs": []
    },
    {
     "cell_type": "code",
     "collapsed": false,
     "input": [],
     "language": "python",
     "metadata": {},
     "outputs": []
    }
   ],
   "metadata": {}
  }
 ]
}