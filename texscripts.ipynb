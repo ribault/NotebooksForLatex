{
 "metadata": {
  "name": ""
 },
 "nbformat": 3,
 "nbformat_minor": 0,
 "worksheets": [
  {
   "cells": [
    {
     "cell_type": "code",
     "collapsed": false,
     "input": [
      "string = \"\\test Cardy's\" + \"y\"\n",
      "print string\n",
      "print repr(string)\n",
      "print 'x' + string.encode('string-escape')\n",
      "print \"x\" + string.encode('string-escape')\n",
      "import re\n",
      "print re.escape(string)\n",
      "import json\n",
      "print json.dumps(string)\n",
      "string2 = r\"\\test Cardy's\"\n",
      "print string2\n",
      "string3 = \"\\\\test \\\" OK \\\" 's\"\n",
      "print string3\n",
      "string4 = \"\"\"\\test \"Cardy's\"\"\"\n",
      "print string4\n",
      "print string4.encode('string-escape')\n",
      "string5 = '''\\test \"Cardy's'''\n",
      "print string5.encode('string-escape')\n",
      "string6 = 'test' + string\n",
      "print string6.encode('string-escape').decode('string-escape').encode('string-escape')\n",
      "string7 = '\\\\test Cardy\\'s'\n",
      "print string7\n",
      "string8 = \"\\\\test Cardy\\'s\"\n",
      "print string8"
     ],
     "language": "python",
     "metadata": {},
     "outputs": [
      {
       "output_type": "stream",
       "stream": "stdout",
       "text": [
        "\test Cardy'sy\n",
        "\"\\test Cardy'sy\"\n",
        "x\\test Cardy\\'sy\n",
        "x\\test Cardy\\'sy\n",
        "\\\test\\ Cardy\\'sy\n",
        "\"\\test Cardy'sy\"\n",
        "\\test Cardy's\n",
        "\\test \" OK \" 's\n",
        "\test \"Cardy's\n",
        "\\test \"Cardy\\'s\n",
        "\\test \"Cardy\\'s\n",
        "test\\test Cardy\\'sy\n",
        "\\test Cardy's\n",
        "\\test Cardy's\n"
       ]
      }
     ],
     "prompt_number": 21
    },
    {
     "cell_type": "code",
     "collapsed": false,
     "input": [
      "import os, shutil, sys, re\n",
      "sourceName = 'source.tex'\n",
      "fileName = 'test.tex'\n",
      "shutil.copyfile(sourceName, fileName)\n",
      "N=10\n",
      "tmpName = fileName + '.tmp'\n",
      "file2 = open(tmpName, 'w+')\n",
      "\n",
      "newCommand = re.compile(r\"\\\\newcommand\\s*(\\\\\\w+)\\s*\\{\\s*(\\S+)\\s*\\}\")\n",
      "\n",
      "with open(fileName, 'r') as file1:\n",
      "    counter = 0\n",
      "    for line in file1:\n",
      "        counter += 1\n",
      "        command = newCommand.search(line)\n",
      "        if command:\n",
      "            print str(counter) + \" \" + command.group(1) + \" -> \" + command.group(2)\n",
      "        if counter % N == 0:\n",
      "            file2.write(str(counter)+ \" \" + line)  \n",
      "    \n",
      "# It is necessary to close the file on which we were writing, otherwise the writing may \n",
      "# stop at an unpredictable place!\n",
      "file2.close()    \n",
      "shutil.copyfile(tmpName, fileName)  \n",
      "#sys.exit(\"Stop here!\")    \n",
      "os.remove(tmpName)\n",
      "    "
     ],
     "language": "python",
     "metadata": {},
     "outputs": [
      {
       "output_type": "stream",
       "stream": "stdout",
       "text": [
        "19 \\la -> \\left\\langle\n",
        "20 \\ra -> \\right\\rangle\n",
        "22 \\bla -> \\left\\{\\begin{array}{l}\n",
        "23 \\ela -> \\end{array}\\right.\n",
        "25 \\Z -> \\mathbb{Z}\n",
        "26 \\N -> \\mathbb{N}\n",
        "27 \\R -> \\mathbb{R}\n",
        "28 \\C -> \\mathbb{C}\n",
        "30 \\p -> \\partial\n",
        "33 \\testa -> \\(x=y\\)\n"
       ]
      }
     ],
     "prompt_number": 17
    },
    {
     "cell_type": "code",
     "collapsed": false,
     "input": [
      "line = r\"qwer\\tayuiop\\a;lsdkfja;lskdjf;laskdjf;lk asldfkj annonce \"\n",
      "rules = [[\"a\", \"A\"],[r\"\\\\\"+\"A\", r\"\\HAHA\"], [\"n\", r\"\\\\n\"], [\"kf\", \"\\\\\\\\r\"]]\n",
      "print line\n",
      "import re\n",
      "for rule in rules:\n",
      "    line = re.subn(rule[0], rule[1], line)[0]\n",
      "    print line\n",
      "match = re.search(\"d(.*)\",line)\n",
      "if match:\n",
      "    print match.group(1)"
     ],
     "language": "python",
     "metadata": {},
     "outputs": [
      {
       "output_type": "stream",
       "stream": "stdout",
       "text": [
        "qwer\\tayuiop\\a;lsdkfja;lskdjf;laskdjf;lk asldfkj annonce \n",
        "qwer\\tAyuiop\\A;lsdkfjA;lskdjf;lAskdjf;lk Asldfkj Annonce \n",
        "qwer\\tAyuiop\\HAHA;lsdkfjA;lskdjf;lAskdjf;lk Asldfkj Annonce \n",
        "qwer\\tAyuiop\\HAHA;lsdkfjA;lskdjf;lAskdjf;lk Asldfkj A\\n\\no\\nce \n",
        "qwer\\tAyuiop\\HAHA;lsd\\rjA;lskdjf;lAskdjf;lk Asldfkj A\\n\\no\\nce \n",
        "\\rjA;lskdjf;lAskdjf;lk Asldfkj A\\n\\no\\nce \n"
       ]
      }
     ],
     "prompt_number": 5
    },
    {
     "cell_type": "code",
     "collapsed": false,
     "input": [
      "line = r\"\\test{csd{d{sdf}d}sdfs{sdfs}sdf}sadf\"\n",
      "from pyparsing import nestedExpr\n",
      "txt = \"{ { a } { b } { { { c } } } }\"\n",
      "nestedExpr('{','}').parseString(txt).asList()\n",
      "newline = r\"\"\n",
      "for char in txt:\n",
      "    if char == r\"{\":\n",
      "        print \"bracket found!\"\n",
      "    else:\n",
      "        newline = newline + char\n",
      "print newline        "
     ],
     "language": "python",
     "metadata": {},
     "outputs": [
      {
       "output_type": "stream",
       "stream": "stdout",
       "text": [
        "bracket found!\n",
        "bracket found!\n",
        "bracket found!\n",
        "bracket found!\n",
        "bracket found!\n",
        "bracket found!\n",
        "  a }  b }    c } } } }\n"
       ]
      }
     ],
     "prompt_number": 15
    },
    {
     "cell_type": "code",
     "collapsed": false,
     "input": [
      "# with is like your try .. finally block in this case\n",
      "with open('stats.txt', 'r') as file:\n",
      "    # read a list of lines into data\n",
      "    data = file.readlines()\n",
      "\n",
      "print data\n",
      "print \"Your name: \" + data[0]\n",
      "\n",
      "# now change the 2nd line, note that you have to add a newline\n",
      "data[1] = 'Mage\\n'\n",
      "\n",
      "# and write everything back\n",
      "with open('stats.txt', 'w') as file:\n",
      "    file.writelines( data )"
     ],
     "language": "python",
     "metadata": {},
     "outputs": []
    },
    {
     "cell_type": "raw",
     "metadata": {},
     "source": [
      "It's pretty simple really:\n",
      "\n",
      "a[start:end] # items start through end-1\n",
      "a[start:]    # items start through the rest of the array\n",
      "a[:end]      # items from the beginning through end-1\n",
      "a[:]         # a copy of the whole array\n",
      "\n",
      "There is also the step value, which can be used with any of the above:\n",
      "\n",
      "a[start:end:step] # start through not past end, by step\n",
      "\n",
      "The key point to remember is that the :end value represents the first value that is not in the selected slice. So, the difference beween end and start is the number of elements selected (if step is 1, the default).\n",
      "\n",
      "The other feature is that start or end may be a negative number, which means it counts from the end of the array instead of the beginning. So:\n",
      "\n",
      "a[-1]    # last item in the array\n",
      "a[-2:]   # last two items in the array\n",
      "a[:-2]   # everything except the last two items\n",
      "\n",
      "Python is kind to the programmer if there are fewer items than you ask for. For example, if you ask for a[:-2] and a only contains one element, you get an empty list instead of an error. Sometimes you would prefer the error, so you have to be aware that this may happen.\n"
     ]
    },
    {
     "cell_type": "code",
     "collapsed": false,
     "input": [
      "f1 = open('yourBigFile.txt', 'r')\n",
      "f2 = open('yourBigFile.txt.tmp', 'w')\n",
      "for line in f1:\n",
      "    f2.write(line.replace(';', ' '))\n",
      "f1.close()\n",
      "f2.close()"
     ],
     "language": "python",
     "metadata": {},
     "outputs": []
    },
    {
     "cell_type": "code",
     "collapsed": false,
     "input": [
      "result = []\n",
      "regex = re.compile(\n",
      "    r\"\"\"^-*\\s+\n",
      "    (?P<name>.*?)\\s+\n",
      "    \\((?P<email>.*?)\\)\\s+\n",
      "    (?:changed\\s+status\\s+from\\s+(?P<previous>.*?)\\s+to|became)\\s+\n",
      "    (?P<new>.*?)\\s+@\\s+\n",
      "    (?P<date>\\S+)\\s+\n",
      "    (?P<time>\\S+)\\s+\n",
      "    -*$\"\"\", re.VERBOSE)\n",
      "with open(\"inputfile\") as f:\n",
      "    for line in f:\n",
      "        match = regex.match(line)\n",
      "        if match:\n",
      "            result.append([\n",
      "                match.group(\"name\"),\n",
      "                match.group(\"email\"),\n",
      "                match.group(\"previous\")\n",
      "                # etc.\n",
      "            ])\n",
      "        else:\n",
      "            # Match attempt failed"
     ],
     "language": "python",
     "metadata": {},
     "outputs": []
    },
    {
     "cell_type": "code",
     "collapsed": false,
     "input": [
      "test = r\"\\\\left\"\n",
      "print test\n",
      "test2 = test.encode('string-escape')\n",
      "print test2\n",
      "test3 = \"\\left\"\n",
      "print test3"
     ],
     "language": "python",
     "metadata": {},
     "outputs": [
      {
       "output_type": "stream",
       "stream": "stdout",
       "text": [
        "\\\\left\n",
        "\\\\\\\\left\n",
        "\\left\n"
       ]
      }
     ],
     "prompt_number": 15
    },
    {
     "cell_type": "code",
     "collapsed": false,
     "input": [
      "x = [1,2,3,4]\n",
      "x[:0] = [19]\n",
      "print x\n",
      "y = [3,5,8]\n",
      "for i in range(10):\n",
      "    print i , i in y"
     ],
     "language": "python",
     "metadata": {},
     "outputs": [
      {
       "output_type": "stream",
       "stream": "stdout",
       "text": [
        "[19, 1, 2, 3, 4]\n",
        "0 False\n",
        "1 False\n",
        "2 False\n",
        "3 True\n",
        "4 False\n",
        "5 True\n",
        "6 False\n",
        "7 False\n",
        "8 True\n",
        "9 False\n"
       ]
      }
     ],
     "prompt_number": 4
    },
    {
     "cell_type": "code",
     "collapsed": false,
     "input": [
      "print True and Falsis False"
     ],
     "language": "python",
     "metadata": {},
     "outputs": [
      {
       "output_type": "stream",
       "stream": "stdout",
       "text": [
        "True\n"
       ]
      }
     ],
     "prompt_number": 2
    },
    {
     "cell_type": "code",
     "collapsed": false,
     "input": [],
     "language": "python",
     "metadata": {},
     "outputs": []
    }
   ],
   "metadata": {}
  }
 ]
}