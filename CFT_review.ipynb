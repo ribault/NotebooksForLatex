{
 "metadata": {
  "name": ""
 },
 "nbformat": 3,
 "nbformat_minor": 0,
 "worksheets": [
  {
   "cells": [
    {
     "cell_type": "code",
     "collapsed": false,
     "input": [
      "from macrem import *"
     ],
     "language": "python",
     "metadata": {},
     "outputs": [],
     "prompt_number": 1
    },
    {
     "cell_type": "code",
     "collapsed": false,
     "input": [
      "fileName = \"../../fichiers/papiers/cft/cft33.tex\"\n",
      "macros = MacroDetect([fileName])\n",
      "macros.display()"
     ],
     "language": "python",
     "metadata": {},
     "outputs": [
      {
       "output_type": "stream",
       "stream": "stdout",
       "text": [
        "List of macros: \n",
        "0  la  ->  \\left\\langle\n",
        "1  ra  ->  \\right\\rangle\n",
        "2  bla  ->  \\left\\{\\begin{array}{l} \n",
        "3  ela  ->  \\end{array}\\right. \n",
        "4  Z  ->  \\mathbb{Z}\n",
        "5  N  ->  \\mathbb{N}\n",
        "6  R  ->  \\mathbb{R}\n",
        "7  C  ->  \\mathbb{C}\n",
        "8  p  ->  \\partial\n",
        "9  pp  ->  {\\frac{\\p}{\\p #1}}\n"
       ]
      }
     ],
     "prompt_number": 5
    },
    {
     "cell_type": "code",
     "collapsed": false,
     "input": [
      "macros.brackets([4,5,6,7])"
     ],
     "language": "python",
     "metadata": {},
     "outputs": [
      {
       "output_type": "stream",
       "stream": "stdout",
       "text": [
        "List of macros: \n",
        "0  la  ->  \\left\\langle\n",
        "1  ra  ->  \\right\\rangle\n",
        "2  bla  ->  \\left\\{\\begin{array}{l} \n",
        "3  ela  ->  \\end{array}\\right. \n",
        "4  Z  ->  {\\mathbb{Z}}\n",
        "5  N  ->  {\\mathbb{N}}\n",
        "6  R  ->  {\\mathbb{R}}\n",
        "7  C  ->  {\\mathbb{C}}\n",
        "8  p  ->  \\partial\n",
        "9  pp  ->  {\\frac{\\p}{\\p #1}}\n"
       ]
      }
     ],
     "prompt_number": 6
    },
    {
     "cell_type": "code",
     "collapsed": false,
     "input": [
      "replace = MacroReplace(macros, fileName)"
     ],
     "language": "python",
     "metadata": {},
     "outputs": [],
     "prompt_number": 7
    },
    {
     "cell_type": "code",
     "collapsed": false,
     "input": [
      "import re, shutil\n",
      "fileName = \"../../fichiers/papiers/cft/cft33.tex\"\n",
      "#shutil.copyfile('source.tex', 'test.tex')\n",
      "#fileName = \"test.tex\"\n",
      "bakName = fileName + \".bak\"\n",
      "shutil.copyfile(fileName, bakName)\n",
      "bakFile = open(bakName, 'r')\n",
      "replaceFile = open(fileName, 'w+')\n",
      "\"\"\" Let's replace (\\ref{...}) with \\eqref{...}. \"\"\"\n",
      "#string = r\"\\(\\\\ref\\{(\\w+)\\}\\)\"\n",
      "#replaceString = r\"\\\\eqref{\\1}\"\n",
      "\"\"\" Let's add linebreaks at the end of all sentences. \n",
      "Beware that this can cause problems in commented-out text.\n",
      "Also, names such as 'Al. Zamolodchikov' get a linebreak.\n",
      "\"\"\"\n",
      "string = r\"\\. +(\\w)\"\n",
      "replaceString = r\".\\n\\1\" \n",
      "for line in bakFile:\n",
      "    sub = re.sub(string, replaceString, line) \n",
      "    replaceFile.write(sub)\n",
      "replaceFile.close()   "
     ],
     "language": "python",
     "metadata": {},
     "outputs": [],
     "prompt_number": 21
    },
    {
     "cell_type": "code",
     "collapsed": false,
     "input": [],
     "language": "python",
     "metadata": {},
     "outputs": []
    }
   ],
   "metadata": {}
  }
 ]
}